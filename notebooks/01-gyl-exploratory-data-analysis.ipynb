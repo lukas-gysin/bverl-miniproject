{
  "cells": [
    {
      "cell_type": "markdown",
      "metadata": {
        "id": "view-in-github",
        "colab_type": "text"
      },
      "source": [
        "<a href=\"https://colab.research.google.com/github/lukas-gysin/bverl-miniproject/blob/main/notebooks/01-gyl-exploratory-data-analysis.ipynb\" target=\"_parent\"><img src=\"https://colab.research.google.com/assets/colab-badge.svg\" alt=\"Open In Colab\"/></a>"
      ]
    },
    {
      "cell_type": "markdown",
      "metadata": {
        "id": "xB-NB_fWZK7o"
      },
      "source": [
        "# Exploratory data analysis\n",
        "\n",
        "[![Open In Colab](https://colab.research.google.com/assets/colab-badge.svg)](https://colab.research.google.com/github/lukas-gysin/bverl-miniproject/blob/main/notebooks/01-gyl-exploratory-data-analysis.ipynb)"
      ]
    },
    {
      "cell_type": "code",
      "source": [
        "from io import BytesIO\n",
        "from pathlib import Path\n",
        "import tempfile\n",
        "import zipfile\n",
        "\n",
        "from PIL import Image\n",
        "import requests\n",
        "import torch"
      ],
      "metadata": {
        "id": "XAPh4-82ZZcs"
      },
      "execution_count": 11,
      "outputs": []
    },
    {
      "cell_type": "code",
      "source": [
        "# Global Configuration\n",
        "\n",
        "device = torch.device(\"cuda\" if torch.cuda.is_available() else \"cpu\")\n",
        "print(f\"Using: {device}\")"
      ],
      "metadata": {
        "id": "ZfZuz198aIeX",
        "outputId": "f96997d8-1163-4fad-8019-f1e9519c0997",
        "colab": {
          "base_uri": "https://localhost:8080/"
        }
      },
      "execution_count": 3,
      "outputs": [
        {
          "output_type": "stream",
          "name": "stdout",
          "text": [
            "Using: cuda\n"
          ]
        }
      ]
    },
    {
      "cell_type": "markdown",
      "source": [
        "## Load Dataset"
      ],
      "metadata": {
        "id": "oQCFtyvxZiXK"
      }
    },
    {
      "cell_type": "code",
      "source": [
        "url = 'https://zenodo.org/records/7711810/files/EuroSAT_RGB.zip?download=1'\n",
        "\n",
        "temp = tempfile.gettempdir()\n",
        "cache = Path(temp) / 'rgb.zip'\n",
        "\n",
        "if cache.exists():\n",
        "  print('Loading RGB data from cache')\n",
        "else:\n",
        "  print('Loading RGB data from remote')\n",
        "  res = requests.get(url, allow_redirects=True)\n",
        "  cache.write_bytes(res.content)\n",
        "zip_data = BytesIO(cache.read_bytes())"
      ],
      "metadata": {
        "id": "mzKbYI1kc0Sy",
        "outputId": "21df8256-2f0d-487c-e49c-e9b26e309d2c",
        "colab": {
          "base_uri": "https://localhost:8080/"
        }
      },
      "execution_count": 17,
      "outputs": [
        {
          "output_type": "stream",
          "name": "stdout",
          "text": [
            "Loading RGB data from cache\n"
          ]
        }
      ]
    },
    {
      "cell_type": "code",
      "source": [
        "with zipfile.ZipFile(zip_data, 'r') as zip:\n",
        "  images = [f for f in zip.namelist() if f.endswith('.jpg')]\n",
        "  image = Image.open(BytesIO(zip.read(images[0])))\n",
        "\n",
        "print(images[0])\n",
        "image"
      ],
      "metadata": {
        "id": "cPbtQsZ-Zz0R",
        "outputId": "323bd57b-d00b-4f07-9d04-3fc2dc9d73bf",
        "colab": {
          "base_uri": "https://localhost:8080/",
          "height": 99
        }
      },
      "execution_count": 18,
      "outputs": [
        {
          "output_type": "stream",
          "name": "stdout",
          "text": [
            "EuroSAT_RGB/Forest/Forest_864.jpg\n"
          ]
        },
        {
          "output_type": "execute_result",
          "data": {
            "text/plain": [
              "<PIL.JpegImagePlugin.JpegImageFile image mode=RGB size=64x64>"
            ],
            "image/png": "[encoded data removed]",
            "image/jpeg": "[encoded data removed]"
          },
          "metadata": {},
          "execution_count": 18
        }
      ]
    }
  ],
  "metadata": {
    "kernelspec": {
      "display_name": "Python 3",
      "name": "python3"
    },
    "language_info": {
      "name": "python",
      "version": "3.12.3"
    },
    "colab": {
      "provenance": [],
      "gpuType": "A100",
      "include_colab_link": true
    },
    "accelerator": "GPU"
  },
  "nbformat": 4,
  "nbformat_minor": 0
}