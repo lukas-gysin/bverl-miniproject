{
  "cells": [
    {
      "cell_type": "markdown",
      "metadata": {
        "id": "xB-NB_fWZK7o"
      },
      "source": [
        "# Exploratory data analysis\n",
        "\n",
        "[![Open In Colab](https://colab.research.google.com/assets/colab-badge.svg)](https://colab.research.google.com/github/lukas-gysin/bverl-miniproject/blob/main/notebooks/01-gyl-exploratory-data-analysis.ipynb)"
      ]
    },
    {
      "cell_type": "code",
      "source": [
        "from io import BytesIO\n",
        "import os\n",
        "from pathlib import Path\n",
        "from sklearn.model_selection import train_test_split\n",
        "import tempfile\n",
        "from typing import Callable\n",
        "import zipfile\n",
        "\n",
        "from PIL import Image\n",
        "import requests\n",
        "import torch\n",
        "from torch.utils.data import DataLoader\n",
        "from torch.utils.data import Dataset\n",
        "from torchvision import transforms"
      ],
      "metadata": {
        "id": "XAPh4-82ZZcs"
      },
      "execution_count": 1,
      "outputs": []
    },
    {
      "cell_type": "code",
      "source": [
        "# Global Configuration\n",
        "\n",
        "seed = 123\n",
        "\n",
        "device = torch.device(\"cuda\" if torch.cuda.is_available() else \"cpu\")\n",
        "print(f\"Using: {device}\")"
      ],
      "metadata": {
        "id": "ZfZuz198aIeX",
        "outputId": "444f4763-cff7-4139-9e26-12a4f4688f9a",
        "colab": {
          "base_uri": "https://localhost:8080/"
        }
      },
      "execution_count": 2,
      "outputs": [
        {
          "output_type": "stream",
          "name": "stdout",
          "text": [
            "Using: cuda\n"
          ]
        }
      ]
    },
    {
      "cell_type": "markdown",
      "source": [
        "## Load Dataset"
      ],
      "metadata": {
        "id": "oQCFtyvxZiXK"
      }
    },
    {
      "cell_type": "code",
      "source": [
        "class EuroSATDataset(Dataset):\n",
        "  @staticmethod\n",
        "  def download(download_dir: Path = Path('/workspace/code/data')):\n",
        "    url = 'https://zenodo.org/records/7711810/files/EuroSAT_RGB.zip?download=1'\n",
        "    save_path = download_dir / 'rgb.zip'\n",
        "    extract_path = download_dir / 'rgb/'\n",
        "\n",
        "    os.makedirs(download_dir, exist_ok=True)\n",
        "\n",
        "    if save_path.exists():\n",
        "      # Zip file already downloaded and saved on local machine\n",
        "      print(f\"File {save_path} exists already - not overwriting\")\n",
        "    else:\n",
        "      # Zip file is not downloaded yet\n",
        "      print(f\"Starting download from {url}\")\n",
        "      response = requests.get(url, allow_redirects=True)\n",
        "      with open(save_path, \"wb\") as file:\n",
        "            for chunk in response.iter_content(chunk_size=8192):\n",
        "                _ = file.write(chunk)\n",
        "      print(f\"File downloaded and saved to {save_path}\")\n",
        "\n",
        "    if extract_path.exists():\n",
        "      # Zip file already extracted to local storage\n",
        "      print(f\"File {extract_path} exists already - not overwriting\")\n",
        "    else:\n",
        "      # Zip file not extracted yet\n",
        "      print(f\"Starting extracting {extract_path}\")\n",
        "      with zipfile.ZipFile(save_path, \"r\") as zip_ref:\n",
        "          zip_ref.extractall(extract_path)\n",
        "      print(f\"File extracted to {extract_path}\")\n",
        "\n",
        "  def __init__(self, root_dir, transform: Callable | None = None,):\n",
        "    self.root_dir = root_dir\n",
        "    self.transform = transform\n",
        "\n",
        "    self.observations = list()\n",
        "    self.classes = os.listdir(root_dir)\n",
        "    for label in self.classes:\n",
        "        class_dir = os.path.join(root_dir, label)\n",
        "        for img_name in os.listdir(class_dir):\n",
        "            img_path = os.path.join(class_dir, img_name)\n",
        "            if img_path.lower().endswith('.jpg'):\n",
        "                self.observations.append({\"image_path\": img_path, \"label\": label})\n",
        "\n",
        "  def __len__(self):\n",
        "    return len(self.observations)\n",
        "\n",
        "  def __getitem__(self, idx):\n",
        "    image_path = self.observations[idx][\"image_path\"]\n",
        "    image = Image.open(image_path)\n",
        "    label = self.observations[idx][\"label\"]\n",
        "    label_num = self.classes.index(label)\n",
        "\n",
        "    if self.transform:\n",
        "      image = self.transform(image)\n",
        "\n",
        "    return {\"image\": image, \"label\": label_num}\n",
        "\n",
        "  @classmethod\n",
        "  def from_subset(cls, original, indices: list[int], transform: Callable | None = None):\n",
        "      # Create a new instance with the same properties as the original\n",
        "      subset = cls(root_dir=original.root_dir, transform=original.transform if transform is None else transform,)\n",
        "\n",
        "      # Filter the observations based on the subset indices\n",
        "      subset.observations = [original.observations[i] for i in indices]\n",
        "      subset.classes = original.classes  # Keep class list consistent\n",
        "\n",
        "      print(f'Created a subset with {len(subset.observations):_} of {len(original.observations):_} images')\n",
        "\n",
        "      return subset"
      ],
      "metadata": {
        "id": "lOfTATeLQGxd"
      },
      "execution_count": 3,
      "outputs": []
    },
    {
      "cell_type": "code",
      "source": [
        "EuroSATDataset.download()"
      ],
      "metadata": {
        "colab": {
          "base_uri": "https://localhost:8080/"
        },
        "id": "do9AMfYFUH2f",
        "outputId": "0614708f-1de8-48a9-e54b-316fd0a0e2dd"
      },
      "execution_count": 4,
      "outputs": [
        {
          "output_type": "stream",
          "name": "stdout",
          "text": [
            "Starting download from https://zenodo.org/records/7711810/files/EuroSAT_RGB.zip?download=1\n",
            "File downloaded and saved to /workspace/code/data/rgb.zip\n",
            "Starting extracting /workspace/code/data/rgb\n",
            "File extracted to /workspace/code/data/rgb\n"
          ]
        }
      ]
    },
    {
      "cell_type": "code",
      "source": [
        "dataset = EuroSATDataset(Path('/workspace/code/data/rgb/EuroSAT_RGB/'))\n",
        "print(dataset.classes)\n",
        "dataset[0]['image']"
      ],
      "metadata": {
        "colab": {
          "base_uri": "https://localhost:8080/",
          "height": 99
        },
        "id": "vHK--yZ8ZX0-",
        "outputId": "fa9d5bca-5da3-46f7-8ef1-bf56d6a9cf5e"
      },
      "execution_count": 5,
      "outputs": [
        {
          "output_type": "stream",
          "name": "stdout",
          "text": [
            "['River', 'AnnualCrop', 'SeaLake', 'Highway', 'Residential', 'HerbaceousVegetation', 'PermanentCrop', 'Industrial', 'Forest', 'Pasture']\n"
          ]
        },
        {
          "output_type": "execute_result",
          "data": {
            "text/plain": [
              "<PIL.JpegImagePlugin.JpegImageFile image mode=RGB size=64x64>"
            ],
            "image/png": "[encoded data removed]",
            "image/jpeg": "[encoded data removed]"
          },
          "metadata": {},
          "execution_count": 5
        }
      ]
    },
    {
      "cell_type": "code",
      "source": [
        "ids = [i for i in range(0, len(dataset.observations))]\n",
        "labels = [x[\"label\"] for x in dataset.observations]\n",
        "transformations = transforms.Compose([transforms.ToTensor()])\n",
        "\n",
        "train_ids, test_ids = train_test_split(ids, train_size=0.8, random_state=seed, stratify=labels)\n",
        "val_ids, test_ids = train_test_split(test_ids, test_size=0.5, random_state=seed, stratify=[labels[i] for i in test_ids])\n",
        "\n",
        "dataset_train = EuroSATDataset.from_subset(dataset, train_ids, transformations)\n",
        "dataset_val = EuroSATDataset.from_subset(dataset, val_ids, transformations)\n",
        "dataset_test = EuroSATDataset.from_subset(dataset, test_ids, transformations)\n",
        "\n",
        "dataloader_train = DataLoader(dataset_train, batch_size=16, shuffle=True)\n",
        "dataloader_val = DataLoader(dataset_val, batch_size=16, shuffle=True)\n",
        "dataloader_test = DataLoader(dataset_test, batch_size=16, shuffle=True)"
      ],
      "metadata": {
        "colab": {
          "base_uri": "https://localhost:8080/"
        },
        "id": "nMsjIxuYbIa-",
        "outputId": "e375df97-fc3e-4356-aef9-cce966dcfd9b"
      },
      "execution_count": 8,
      "outputs": [
        {
          "output_type": "stream",
          "name": "stdout",
          "text": [
            "Created a subset with 21_600 of 27_000 images\n",
            "Created a subset with 2_700 of 27_000 images\n",
            "Created a subset with 2_700 of 27_000 images\n"
          ]
        }
      ]
    },
    {
      "cell_type": "code",
      "source": [
        "observations = next(iter(dataloader_train))\n"
      ],
      "metadata": {
        "id": "n72vzlAOjSum"
      },
      "execution_count": 9,
      "outputs": []
    }
  ],
  "metadata": {
    "kernelspec": {
      "display_name": "Python 3",
      "name": "python3"
    },
    "language_info": {
      "name": "python",
      "version": "3.12.3"
    },
    "colab": {
      "provenance": [],
      "gpuType": "A100"
    },
    "accelerator": "GPU"
  },
  "nbformat": 4,
  "nbformat_minor": 0
}